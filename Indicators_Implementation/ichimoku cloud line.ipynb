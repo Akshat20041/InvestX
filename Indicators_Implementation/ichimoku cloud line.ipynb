{
 "cells": [
  {
   "cell_type": "code",
   "execution_count": 5,
   "metadata": {},
   "outputs": [],
   "source": [
    "import pandas as pd\n",
    "import numpy as np\n",
    "import yfinance as yf\n",
    "\n",
    "def ichimoku_cloud(df):\n",
    "   \n",
    "    conversion_line_period = 10\n",
    "    base_line_period = 26\n",
    "    leading_span_b_period = 52\n",
    "    lagging_span_period = 28\n",
    "  \n",
    "    df['Conversion Line'] = (df['High'].rolling(window=conversion_line_period).max() + df['Low'].rolling(window=conversion_line_period).min()) / 2\n",
    "   \n",
    "    df['Base Line'] = (df['High'].rolling(window=base_line_period).max() + df['Low'].rolling(window=base_line_period).min()) / 2\n",
    "    \n",
    "    df['Leading Span A'] = (df['Conversion Line'] + df['Base Line']) / 2\n",
    "    \n",
    "    df['Leading Span B'] = (df['High'].rolling(window=leading_span_b_period).max() + df['Low'].rolling(window=leading_span_b_period).min()) / 2\n",
    "    \n",
    "    df['Lagging Span'] = df['Close'].shift(-lagging_span_period)\n",
    "    \n",
    "    df['Leading Span A'] = df['Leading Span A'].shift(base_line_period)\n",
    "    df['Leading Span B'] = df['Leading Span B'].shift(base_line_period)\n",
    "    \n",
    "    return df\n",
    "\n",
    "\n",
    "\n"
   ]
  },
  {
   "cell_type": "code",
   "execution_count": null,
   "metadata": {},
   "outputs": [],
   "source": []
  },
  {
   "cell_type": "code",
   "execution_count": 6,
   "metadata": {},
   "outputs": [
    {
     "name": "stdout",
     "output_type": "stream",
     "text": [
      "[*********************100%***********************]  1 of 1 completed\n",
      "                   Open         High          Low        Close    Adj Close  \\\n",
      "Date                                                                          \n",
      "2021-01-01   477.000000   493.250000   477.000000   491.149994   490.615631   \n",
      "2021-01-04   492.000000   502.600006   486.649994   494.500000   493.962006   \n",
      "2021-01-05   492.000000   501.399994   489.600006   494.399994   493.862091   \n",
      "2021-01-06   496.000000   500.649994   484.250000   490.899994   490.365906   \n",
      "2021-01-07   493.899994   523.950012   493.799988   518.099976   517.536316   \n",
      "...                 ...          ...          ...          ...          ...   \n",
      "2022-12-26  3653.000000  3744.899902  3620.000000  3716.750000  3716.750000   \n",
      "2022-12-27  3732.449951  3797.899902  3695.050049  3769.649902  3769.649902   \n",
      "2022-12-28  3756.050049  3825.000000  3745.000000  3797.699951  3797.699951   \n",
      "2022-12-29  3790.000000  3825.000000  3748.100098  3810.600098  3810.600098   \n",
      "2022-12-30  3829.699951  3898.000000  3822.050049  3858.350098  3858.350098   \n",
      "\n",
      "             Volume  \n",
      "Date                 \n",
      "2021-01-01  5035248  \n",
      "2021-01-04  4936582  \n",
      "2021-01-05  3654033  \n",
      "2021-01-06  3295461  \n",
      "2021-01-07  9879731  \n",
      "...             ...  \n",
      "2022-12-26  2162662  \n",
      "2022-12-27  1804911  \n",
      "2022-12-28  1377950  \n",
      "2022-12-29  1531692  \n",
      "2022-12-30  1528747  \n",
      "\n",
      "[496 rows x 6 columns]\n"
     ]
    }
   ],
   "source": [
    "\n",
    "symbol = 'ADANIENT.NS'\n",
    "start_date = '2021-01-01'\n",
    "end_date = '2023-01-01'\n",
    "\n",
    "data = yf.download(symbol, start=start_date, end=end_date)\n",
    "\n",
    "print(data)"
   ]
  },
  {
   "cell_type": "code",
   "execution_count": 7,
   "metadata": {},
   "outputs": [
    {
     "name": "stdout",
     "output_type": "stream",
     "text": [
      "                   Open         High          Low        Close    Adj Close  \\\n",
      "Date                                                                          \n",
      "2021-01-01   477.000000   493.250000   477.000000   491.149994   490.615631   \n",
      "2021-01-04   492.000000   502.600006   486.649994   494.500000   493.962006   \n",
      "2021-01-05   492.000000   501.399994   489.600006   494.399994   493.862091   \n",
      "2021-01-06   496.000000   500.649994   484.250000   490.899994   490.365906   \n",
      "2021-01-07   493.899994   523.950012   493.799988   518.099976   517.536316   \n",
      "...                 ...          ...          ...          ...          ...   \n",
      "2022-12-26  3653.000000  3744.899902  3620.000000  3716.750000  3716.750000   \n",
      "2022-12-27  3732.449951  3797.899902  3695.050049  3769.649902  3769.649902   \n",
      "2022-12-28  3756.050049  3825.000000  3745.000000  3797.699951  3797.699951   \n",
      "2022-12-29  3790.000000  3825.000000  3748.100098  3810.600098  3810.600098   \n",
      "2022-12-30  3829.699951  3898.000000  3822.050049  3858.350098  3858.350098   \n",
      "\n",
      "             Volume  Conversion Line    Base Line  Leading Span A  \\\n",
      "Date                                                                \n",
      "2021-01-01  5035248              NaN          NaN             NaN   \n",
      "2021-01-04  4936582              NaN          NaN             NaN   \n",
      "2021-01-05  3654033              NaN          NaN             NaN   \n",
      "2021-01-06  3295461              NaN          NaN             NaN   \n",
      "2021-01-07  9879731              NaN          NaN             NaN   \n",
      "...             ...              ...          ...             ...   \n",
      "2022-12-26  2162662      3903.400024  3903.400024     3723.712524   \n",
      "2022-12-27  1804911      3903.400024  3903.400024     3787.025024   \n",
      "2022-12-28  1377950      3903.400024  3903.400024     3797.912537   \n",
      "2022-12-29  1531692      3903.400024  3903.400024     3797.912537   \n",
      "2022-12-30  1528747      3903.400024  3903.400024     3809.775024   \n",
      "\n",
      "            Leading Span B  Lagging Span  \n",
      "Date                                      \n",
      "2021-01-01             NaN    658.599976  \n",
      "2021-01-04             NaN    718.950012  \n",
      "2021-01-05             NaN    763.450012  \n",
      "2021-01-06             NaN    780.200012  \n",
      "2021-01-07             NaN    785.450012  \n",
      "...                    ...           ...  \n",
      "2022-12-26     3603.099976           NaN  \n",
      "2022-12-27     3603.099976           NaN  \n",
      "2022-12-28     3603.099976           NaN  \n",
      "2022-12-29     3603.099976           NaN  \n",
      "2022-12-30     3603.099976           NaN  \n",
      "\n",
      "[496 rows x 11 columns]\n"
     ]
    }
   ],
   "source": [
    "\n",
    "ichimoku_data = ichimoku_cloud(data)\n",
    "print(ichimoku_data)"
   ]
  }
 ],
 "metadata": {
  "kernelspec": {
   "display_name": "base",
   "language": "python",
   "name": "python3"
  },
  "language_info": {
   "codemirror_mode": {
    "name": "ipython",
    "version": 3
   },
   "file_extension": ".py",
   "mimetype": "text/x-python",
   "name": "python",
   "nbconvert_exporter": "python",
   "pygments_lexer": "ipython3",
   "version": "3.10.9"
  },
  "orig_nbformat": 4
 },
 "nbformat": 4,
 "nbformat_minor": 2
}
